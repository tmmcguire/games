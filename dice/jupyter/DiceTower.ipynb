{
 "cells": [
  {
   "cell_type": "markdown",
   "id": "stupid-plastic",
   "metadata": {},
   "source": [
    "# Analysis of a Dice Tower\n",
    "\n",
    "In which I investigate the randomness properties of dice rolled using a home-made dice tower, with the techniques given by Donald Knuth in *The Art of Computer Programming, Vol. 2: Seminumerical Algorithms.*"
   ]
  },
  {
   "cell_type": "code",
   "execution_count": 1,
   "id": "opposite-livestock",
   "metadata": {},
   "outputs": [],
   "source": [
    "import math\n",
    "import scipy.stats\n",
    "import matplotlib.pyplot as plt\n",
    "\n",
    "# Number formatting fuctions\n",
    "def f(number): return f'{round(number, 2)}'\n",
    "def p(number): return f'{round(number * 100, 1)}%'\n",
    "\n",
    "# Factorial!\n",
    "def fact(n):\n",
    "    'n!'\n",
    "    if n <= 1: return 1\n",
    "    else:      return n * fact(n - 1)"
   ]
  },
  {
   "cell_type": "code",
   "execution_count": 2,
   "id": "healthy-organ",
   "metadata": {},
   "outputs": [],
   "source": [
    "def count(sample, n):\n",
    "    'Return counts of each element of sample, '\n",
    "    'where each sample is 0..n'\n",
    "    count = [0] * n\n",
    "    for elt in sample:\n",
    "        count[elt - 1] += 1\n",
    "    return count"
   ]
  },
  {
   "cell_type": "markdown",
   "id": "under-parcel",
   "metadata": {},
   "source": [
    "The Stirling numbers ${n \\brace m}$ can be computed with the function\n",
    "\n",
    "$$\n",
    "S(n,m) =\n",
    "\\begin{cases}\n",
    "               1 & \\textrm{if } m = 1 \\\\\n",
    "               1 & \\textrm{if } n = m \\\\\n",
    "               0 & \\textrm{if } n < m \\\\\n",
    "               m S(n-1,m) + S(n-1,m-1) & \\textrm{otherwise}\n",
    "\\end{cases}\n",
    "$$\n",
    "\n",
    "See https://people.sc.fsu.edu/~jburkardt/py_src/polpak/stirling2.py."
   ]
  },
  {
   "cell_type": "code",
   "execution_count": 3,
   "id": "turkish-ontario",
   "metadata": {},
   "outputs": [],
   "source": [
    "def Stirling(n, m):\n",
    "    if   m == 1: return 1\n",
    "    elif m == n: return 1\n",
    "    elif n < m:  return 0\n",
    "    else:\n",
    "        return (\n",
    "            (m * Stirling(n - 1, m))\n",
    "            + Stirling(n - 1, m - 1)\n",
    "        )"
   ]
  },
  {
   "cell_type": "code",
   "execution_count": 4,
   "id": "assigned-while",
   "metadata": {},
   "outputs": [],
   "source": [
    "def by_n(sequence, n):\n",
    "    'iterate over n-element slices of sequence'\n",
    "    for i in range(0, len(sequence), n):\n",
    "        yield list(sequence[i:i+n])\n",
    "\n",
    "def by_n_overlap(sequence, n):\n",
    "    'iterate over every n-element slice of sequence'\n",
    "    for i in range(0, len(sequence) + 1 - n):\n",
    "        yield list(sequence[i:i+n])"
   ]
  },
  {
   "cell_type": "markdown",
   "id": "joined-movement",
   "metadata": {},
   "source": [
    "## Methodology\n",
    "\n",
    "The dice tower in question was assembled from a USPS priority mail box (used) and blue painter's tape in about 10 minutes, without the use of any form of plans. It has three baffles with an additional ramp to convice the dice to exit the tower, since the baffles are in the wrong positions.\n",
    "\n",
    "The dice are three pink d6, about 10mm, maybe. They had the most rounded edges of my dice collection and were not very large\n",
    "\n",
    "### Dice rolling\n",
    "\n",
    "The dice were rolled one at a time by holding the 1 pip up approximately 25mm above the dice tower top opening and releasing them under gravity. Three dice were rolled in each trial---the value chosen is the value initially rolled on the dice, which may be changed by the impact of a later dice.\n",
    "\n",
    "`rolls` is the result of rolling dice.\n",
    "\n",
    "`repetition` is a sequence of repetitions of 1-6, with a length equal to the length of rolls, as one control test.\n",
    "\n",
    "`sorted_rolls` is `rolls`, sorted, as another control test. (Obviously, it would be locally very non-random.)\n",
    "\n",
    "`duplicated` is `rolls`, with each element duplicated, like [3, 3, 1, 1, ...], as another control test.\n",
    "\n",
    "`normal` is a sequence of rounded values from a truncated normal distribution over [1,6], as a random, but non-uniformly distributed control test.\n",
    "\n",
    "`uniform` is a sequence of values from scipy.stats' uniform distribution, which are $0 \\leq x \\lt 1$ and then moved into the range [1,6] by $\\lfloor{6x}\\rfloor + 1$. This is another control test which should be positive."
   ]
  },
  {
   "cell_type": "code",
   "execution_count": 5,
   "id": "handled-final",
   "metadata": {},
   "outputs": [
    {
     "data": {
      "text/plain": [
       "999"
      ]
     },
     "execution_count": 5,
     "metadata": {},
     "output_type": "execute_result"
    }
   ],
   "source": [
    "rolls = list(map(lambda n: int(n),\n",
    "    '313141462543662425625132222521641644463233423221345122666465'\n",
    "    '366423246553145466524122645362513543543326655236561436422616'\n",
    "    '611613112624535652352564164532146152441526435512423115163413'\n",
    "    '332151643426566431425635221141124661516423215513532534554326'\n",
    "    '522343666132235566231264113132446115521541113216412524426615'\n",
    "    '342553344426541534655246136631251362246243634634433312125265'\n",
    "    '224612651221552336624611164243633621245115452152444416362232'\n",
    "    '156456653234361315626124622261421354415451442424356412121533'\n",
    "    '225316344434454125162115662514312255654355331332432154143522'\n",
    "    '634454125523651352225262335662232312136343135163465454621524'\n",
    "    '564152663235435612156423544333544613412344463522624634261616'\n",
    "    '615566414143361664411553343521515552363331315216235254625326'\n",
    "    '434346612531512565511563446423646416365322431663354221225145'\n",
    "    '543654126651535163436662341165266516511552615233141216621142'\n",
    "    '513442634663325356235441352552432664231266451126344635165441'\n",
    "    '426555345332551566551464125335125465266111433513342644251636'\n",
    "    '343153241542132252165135336416443466334'\n",
    "))\n",
    "\n",
    "repetition = [1,2,3,4,5,6] * (len(rolls) // 6)\n",
    "\n",
    "sorted_rolls = list(rolls)\n",
    "sorted_rolls.sort()\n",
    "\n",
    "duplicated = [\n",
    "    item\n",
    "    for sublist in map(lambda x: [x, x], rolls)\n",
    "    for item in sublist\n",
    "]\n",
    "\n",
    "normal = scipy.stats.truncnorm(a=1/3, b=6/3, scale=3).rvs(len(rolls)).round().astype(int)\n",
    "\n",
    "uniform = list(map(lambda x: math.floor(6*x) + 1, scipy.stats.uniform.rvs(size=len(rolls))))\n",
    "\n",
    "len(uniform)"
   ]
  },
  {
   "cell_type": "markdown",
   "id": "continent-restoration",
   "metadata": {},
   "source": [
    "## Tests\n",
    "\n",
    "### Chi-square\n",
    "\n",
    "The $\\chi^2$ test is a good ol' staple of statistical statistics. It compares an experimental random sequence, `sample`, with an expected random distribution, `f_exp`, producing a value, `statistic`, or a `pvalue`, the probability of getting a result as \"extreme\" as the sample from the expected random distribution. By default, the expected distribution is the uniform random distribution. The $\\chi^2$ test is useful when each sample value comes from a bin, like a 6-sided dice roll that produces 1, 2, 3, 4, 5, or 6."
   ]
  },
  {
   "cell_type": "code",
   "execution_count": 6,
   "id": "permanent-longitude",
   "metadata": {},
   "outputs": [],
   "source": [
    "def chi2test(sample, pvalue=True, f_exp=None):\n",
    "    'Perform the chi-squared test on counts, '\n",
    "    'normally returning the pvalue but optionally '\n",
    "    'the statistic value.'\n",
    "    result = scipy.stats.chisquare(\n",
    "        sample,\n",
    "        f_exp = f_exp\n",
    "    )\n",
    "    if pvalue:\n",
    "        return result.pvalue\n",
    "    else:\n",
    "        return result.statistic"
   ]
  },
  {
   "cell_type": "markdown",
   "id": "about-aquarium",
   "metadata": {
    "variables": {
     " p(chi2test(count(duplicated, 6))) ": "98.1%",
     " p(chi2test(count(normal, 6))) ": "0.0%",
     " p(chi2test(count(repetition, 6))) ": "100.0%",
     " p(chi2test(count(rolls, 6))) ": "99.6%",
     " p(chi2test(count(sorted_rolls, 6))) ": "99.6%",
     " p(chi2test(count(uniform, 6))) ": "91.5%"
    }
   },
   "source": [
    "Applying the $\\chi^2$ test to the test sequences above gives:\n",
    "\n",
    "| Sequence | $\\chi^2$ |\n",
    "|:--------:|:-----------------:|\n",
    "| `rolls` | {{ p(chi2test(count(rolls, 6))) }} |\n",
    "| `repetition` | {{ p(chi2test(count(repetition, 6))) }} |\n",
    "| `sorted_rolls` | {{ p(chi2test(count(sorted_rolls, 6))) }} |\n",
    "| `duplicated` | {{ p(chi2test(count(duplicated, 6))) }} |\n",
    "| `normal` | {{ p(chi2test(count(normal, 6))) }} |\n",
    "| `uniform` | {{ p(chi2test(count(uniform, 6))) }} |\n",
    "\n",
    "**The $\\chi^2$ *pvalue* for the `rolls` is {{ p(chi2test(count(rolls, 6))) }}** (representing the chance that the result of a true uniform distribution would be at least as extreme as this sample), which is reasonable. (Basically, anything that isn't very close to 0% or 100% is \"reasonable\". Random numbers are ... random.)\n",
    "\n",
    "**The $\\chi^2$ value for `sorted_rolls` is also {{ p(chi2test(count(sorted_rolls, 6))) }},** and **the $\\chi^2$ value for `duplication` is {{ p(chi2test(count(duplicated, 6))) }},** both also acceptable.\n",
    "\n",
    "**The $\\chi^2$ value for the `repetition` is {{ p(chi2test(count(repetition, 6))) }} and that for `normal` is {{ p(chi2test(count(normal, 6))) }}.** Those don't seem reasonable.\n",
    "\n",
    "Finally, **the $\\chi^2$ value for `uniform` is {{ p(chi2test(count(uniform, 6))) }},** which is acceptable."
   ]
  },
  {
   "cell_type": "markdown",
   "id": "level-capability",
   "metadata": {},
   "source": [
    "Knuth suggests making tests on smaller sub-sequences of the overall random sequence being tested, in order to look at local behavior."
   ]
  },
  {
   "cell_type": "code",
   "execution_count": 7,
   "id": "impressive-courage",
   "metadata": {},
   "outputs": [],
   "source": [
    "def sub_chi2test(samples, n, pvalue=True):\n",
    "    '''Compute χ^2 values for n-element subsequences of lst'''\n",
    "    return [\n",
    "        chi2test(count(sublst, 6), pvalue=pvalue)\n",
    "        for sublst in by_n(samples, n)\n",
    "    ]"
   ]
  },
  {
   "cell_type": "markdown",
   "id": "silver-workshop",
   "metadata": {
    "variables": {
     " ', '.join(map(p, sub_chi2test(normal, 60))) ": "0.0%, 0.1%, 0.0%, 0.0%, 0.1%, 8.1%, 0.0%, 3.2%, 0.0%, 0.0%, 0.0%, 0.0%, 0.0%, 0.0%, 0.0%, 0.1%, 0.0%",
     " ', '.join(map(p, sub_chi2test(repetition, 60))) ": "100.0%, 100.0%, 100.0%, 100.0%, 100.0%, 100.0%, 100.0%, 100.0%, 100.0%, 100.0%, 100.0%, 100.0%, 100.0%, 100.0%, 100.0%, 100.0%, 100.0%",
     " ', '.join(map(p, sub_chi2test(repetition, 61))) ": "100.0%, 100.0%, 100.0%, 100.0%, 100.0%, 100.0%, 100.0%, 100.0%, 100.0%, 100.0%, 100.0%, 100.0%, 100.0%, 100.0%, 100.0%, 100.0%, 99.5%",
     " ', '.join(map(p, sub_chi2test(rolls, 60))) ": "44.1%, 52.1%, 79.1%, 99.5%, 66.9%, 70.0%, 49.3%, 94.5%, 66.9%, 73.1%, 73.1%, 66.9%, 99.5%, 28.7%, 90.1%, 60.8%, 65.3%",
     " ', '.join(map(p, sub_chi2test(sorted_rolls, 60))) ": "0.0%, 0.0%, 0.0%, 0.0%, 0.0%, 0.0%, 0.0%, 0.0%, 0.0%, 0.0%, 0.0%, 0.0%, 0.0%, 0.0%, 0.0%, 0.0%, 0.0%",
     " p(chi2test(count(sorted_rolls, 6))) ": "99.6%"
    }
   },
   "source": [
    "**The $\\chi^2$ *pvalue* of each 60-element subsequences of `rolls` is {{ ', '.join(map(p, sub_chi2test(rolls, 60))) }};** most of the values are acceptable although some are a little sketchy. **The same values for `repetition` is {{ ', '.join(map(p, sub_chi2test(repetition, 60))) }},** which is as bad as the value of the whole sequence. On the other hand, if we break it at 61, the subsequences are {{ ', '.join(map(p, sub_chi2test(repetition, 61))) }}, which is bad in a different way.\n",
    "\n",
    "**The $\\chi^2$ *pvalue* of `sorted_rolls` is {{ p(chi2test(count(sorted_rolls, 6))) }}, the same as the unsorted list, but the subsequence test is {{ ', '.join(map(p, sub_chi2test(sorted_rolls, 60))) }}, clearly indicating something is wrong.**\n",
    "\n",
    "**The subsequence test for `normal` is {{ ', '.join(map(p, sub_chi2test(normal, 60))) }},** which seems suspicious."
   ]
  },
  {
   "cell_type": "markdown",
   "id": "fallen-respondent",
   "metadata": {},
   "source": [
    "### Kolmogorov-Smirnov\n",
    "\n",
    "(There should be vodka for this.)"
   ]
  },
  {
   "cell_type": "code",
   "execution_count": 8,
   "id": "fundamental-rebel",
   "metadata": {},
   "outputs": [],
   "source": [
    "def kstest(samples, cdf=scipy.stats.uniform.cdf):\n",
    "    'Compute KS test for samples, compared to distribution cdf'\n",
    "    return scipy.stats.kstest(samples, cdf).pvalue"
   ]
  },
  {
   "cell_type": "markdown",
   "id": "accurate-capital",
   "metadata": {
    "variables": {
     " p(kstest(count(rolls, 6))) ": "0.0%"
    }
   },
   "source": [
    "The Kolmogorov-Smirnov test is fundamentally similar to the $\\chi^2$ test. The KS *pvalue* for the rolls is {{ p(kstest(count(rolls, 6))) }} (representing the chance that the result of a true uniform distribution would be less than this sample), which is not good. The problem, as Knuth notes, is\n",
    "\n",
    "> The Kolmogorov-Smirnov test (KS test) may be used when $F(x)$ has no jumps.\n",
    "\n",
    "KS is useful for continuous distributions, such as what are typically produced by computer pseudo-random number generators---typically floating point numbers between 0 and 1---while the $\\chi^2$ test is useful for discrete distributions such as this case where the result is an integer between 1 and 6  meaning that they are entirely jumps. In the case of dice, the $\\chi^2$ test is more appropriate.\n",
    "\n",
    "There is, however, one good use of Kolmogorov-Smirnov with dice rolling: if we break up the rolls into subsequences, perform the $\\chi^2$ test on the subsequences, and then use the KS test to combine the results, the end result is a single value for the localized behavior of the sequence. This *is* a reasonable thing to do, because the statistic result of the $\\chi^2$ test comes from the $\\chi^2$ distribution, which is continuous.\n",
    "\n",
    "In order to combine the $\\chi^2$ results in this way, we need to get the $\\chi^2$ statistics and compare their distributions to the $\\chi^2$ cumulative distribution function with the appropriate degrees of freedom (5 in the case of 6-sided dice rolls). (And no, you are not expected to understand that last remark. I certainly don't.)"
   ]
  },
  {
   "cell_type": "code",
   "execution_count": 9,
   "id": "authorized-favorite",
   "metadata": {},
   "outputs": [],
   "source": [
    "def ks_combine_chi2(samples, n):\n",
    "    'Compute χ^2 values for n-element subsequences of lst, '\n",
    "    'then combine them with the KS test using χ^2 distribution'\n",
    "    df = max(samples) - 1\n",
    "    return kstest(\n",
    "        sub_chi2test(samples, n, pvalue=False),\n",
    "        cdf=lambda x: scipy.stats.chi2.cdf(x, df)\n",
    "    )"
   ]
  },
  {
   "cell_type": "markdown",
   "id": "sexual-eugene",
   "metadata": {
    "variables": {
     " p(ks_combine_chi2(duplicated, 30)) ": "0.0%",
     " p(ks_combine_chi2(normal, 30)) ": "0.0%",
     " p(ks_combine_chi2(repetition, 30)) ": "0.0%",
     " p(ks_combine_chi2(rolls, 30)) ": "4.8%",
     " p(ks_combine_chi2(sorted_rolls, 30)) ": "0.0%",
     " p(ks_combine_chi2(uniform, 30)) ": "93.4%"
    }
   },
   "source": [
    "| Sequence | Combined $\\chi^2$ |\n",
    "|:--------:|:-----------------:|\n",
    "| `rolls` | {{ p(ks_combine_chi2(rolls, 30)) }} |\n",
    "| `repetition` | {{ p(ks_combine_chi2(repetition, 30)) }} |\n",
    "| `sorted_rolls` | {{ p(ks_combine_chi2(sorted_rolls, 30)) }} |\n",
    "| `duplicated` | {{ p(ks_combine_chi2(duplicated, 30)) }} |\n",
    "| `normal` | {{ p(ks_combine_chi2(normal, 30)) }} |\n",
    "| `uniform` | {{ p(ks_combine_chi2(uniform, 30)) }} |\n",
    "\n",
    "**Combining the results of the 30-element $\\chi^2$ subsequence test on `rolls` produces {{ p(ks_combine_chi2(rolls, 30)) }} and the `uniform` sample produces {{ p(ks_combine_chi2(uniform, 30)) }}, while the `repetition` sample produces {{ p(ks_combine_chi2(repetition, 30)) }}, the `sorted_rolls` sample produces {{ p(ks_combine_chi2(sorted_rolls, 30)) }}, the `duplicated` sample is {{ p(ks_combine_chi2(duplicated, 30)) }}, and the `normal` sample produces {{ p(ks_combine_chi2(normal, 30)) }}.** The first two are good, the rest are not."
   ]
  },
  {
   "cell_type": "markdown",
   "id": "focused-waste",
   "metadata": {
    "variables": {
     " _ = plt.hist(x=duplicated, bins=6, color='#0504aa', rwidth=0.85) ": "<img src=\"data:image/png;base64,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\n\"/>",
     " _ = plt.hist(x=normal, bins=6, color='#0504aa', rwidth=0.85) ": "<img src=\"data:image/png;base64,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\n\"/>",
     " _ = plt.hist(x=repetition, bins=6, color='#0504aa', rwidth=0.85) ": "<img src=\"data:image/png;base64,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\n\"/>",
     " _ = plt.hist(x=rolls, bins=6, color='#0504aa', rwidth=0.85) ": "<img src=\"data:image/png;base64,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\n\"/>",
     " _ = plt.hist(x=sorted_rolls, bins=6, color='#0504aa', rwidth=0.85) ": "<img src=\"data:image/png;base64,iVBORw0KGgoAAAANSUhEUgAAAXcAAAD4CAYAAAAXUaZHAAAAOXRFWHRTb2Z0d2FyZQBNYXRwbG90bGliIHZlcnNpb24zLjMuNCwgaHR0cHM6Ly9tYXRwbG90bGliLm9yZy8QVMy6AAAACXBIWXMAAAsTAAALEwEAmpwYAAAQEUlEQVR4nO3df4xlZX3H8fdHFlSwuuCOZN1du5u62qCphUwohtagtApKXP6wBuKPrSXZtKUWqy2CTUr6B4m2jb/SlmQLK0tKQYpYiLFWihhqUsBZRPmxUDcoMhtwxyAqmoLot3/MsZ0Ms8zce2buZZ59vxJyz3nOc875nkzy4dnnnnNPqgpJUlueM+4CJEnLz3CXpAYZ7pLUIMNdkhpkuEtSg9aMuwCAdevW1ebNm8ddhiStKnv27PleVU0stO1ZEe6bN29mampq3GVI0qqS5MGDbXNaRpIaZLhLUoMMd0lqkOEuSQ0y3CWpQYa7JDXIcJekBhnuktQgw12SGvSseEJV/++Iw/9l3CUM7Mmf/u64S5A0j+EuqSmrbYC0UoMjp2UkqUGO3LWiVtsoCg69aabV9jc61P4+w3LkLkkNcuQuDciRrlYDR+6S1CDDXZIaZLhLUoMWDfcku5IcSHL3vPb3JrkvyT1J/npO+4VJ9iW5P8mbVqJoSdIzW8oXqpcDfwdc8YuGJK8HtgGvqaonkrykaz8OOAt4FfBS4D+SvKKqfrbchUuSDm7RkXtV3QI8Oq/5D4EPV9UTXZ8DXfs24OqqeqKqvgXsA05cxnolSUsw7K2QrwB+K8nFwP8Af1ZVXwU2ALfO6TfdtT1Nkh3ADoCXvexlQ5ax+m5LA29Nk7Tyhv1CdQ1wDHAS8OfANUkyyAGqamdVTVbV5MTExJBlSJIWMmy4TwPX1azbgZ8D64D9wKY5/TZ2bZKkERo23P8VeD1AklcARwDfA24Azkry3CRbgK3A7ctQpyRpAIvOuSe5CjgFWJdkGrgI2AXs6m6PfBLYXlUF3JPkGuBe4CngXO+UkaTRWzTcq+rsg2x650H6Xwxc3KcoSVI/PqEqSQ0y3CWpQYa7JDXIcJekBhnuktQgw12SGmS4S1KDDHdJapDhLkkNMtwlqUGGuyQ1yHCXpAYZ7pLUIMNdkhpkuEtSgxYN9yS7khzoXswxf9sHklSSdd16knwyyb4k30hywkoULUl6ZksZuV8OnDa/Mckm4I3Ad+Y0n87sq/W2AjuAS/qXKEka1KLhXlW3AI8usOljwPlAzWnbBlzRvTj7VmBtkvXLUqkkacmGmnNPsg3YX1Vfn7dpA/DQnPXprm2hY+xIMpVkamZmZpgyJEkHMXC4JzkS+BDwl31OXFU7q2qyqiYnJib6HEqSNM+iL8hewK8AW4CvJwHYCNyR5ERgP7BpTt+NXZskaYQGHrlX1V1V9ZKq2lxVm5mdejmhqh4BbgDe3d01cxLwg6p6eHlLliQtZim3Ql4F/BfwyiTTSc55hu6fBx4A9gH/CPzRslQpSRrIotMyVXX2Its3z1ku4Nz+ZUmS+vAJVUlqkOEuSQ0y3CWpQYa7JDXIcJekBhnuktQgw12SGmS4S1KDDHdJapDhLkkNMtwlqUGGuyQ1yHCXpAYZ7pLUIMNdkhq0lJd17EpyIMndc9r+Jsl9Sb6R5LNJ1s7ZdmGSfUnuT/KmFapbkvQMljJyvxw4bV7bjcCrq+rXgP8GLgRIchxwFvCqbp9/SHLYslUrSVqSRcO9qm4BHp3X9sWqeqpbvZXZF2EDbAOurqonqupbzL5u78RlrFeStATLMef++8C/dcsbgIfmbJvu2iRJI9Qr3JP8BfAUcOUQ++5IMpVkamZmpk8ZkqR5hg73JL8HnAG8o3sxNsB+YNOcbhu7tqepqp1VNVlVkxMTE8OWIUlawFDhnuQ04HzgrVX1kzmbbgDOSvLcJFuArcDt/cuUJA1izWIdklwFnAKsSzINXMTs3THPBW5MAnBrVf1BVd2T5BrgXmana86tqp+tVPGSpIUtGu5VdfYCzZc9Q/+LgYv7FCVJ6scnVCWpQYa7JDXIcJekBhnuktQgw12SGmS4S1KDDHdJapDhLkkNMtwlqUGGuyQ1yHCXpAYZ7pLUIMNdkhpkuEtSgwx3SWqQ4S5JDVo03JPsSnIgyd1z2o5JcmOSb3afR3ftSfLJJPuSfCPJCStZvCRpYUsZuV8OnDav7QLgpqraCtzUrQOczux7U7cCO4BLlqdMSdIgFg33qroFeHRe8zZgd7e8GzhzTvsVNetWYG2S9ctUqyRpiYadcz+2qh7ulh8Bju2WNwAPzek33bU9TZIdSaaSTM3MzAxZhiRpIb2/UK2qAmqI/XZW1WRVTU5MTPQtQ5I0x7Dh/t1fTLd0nwe69v3Apjn9NnZtkqQRGjbcbwC2d8vbgevntL+7u2vmJOAHc6ZvJEkjsmaxDkmuAk4B1iWZBi4CPgxck+Qc4EHg7V33zwNvBvYBPwHeswI1S5IWsWi4V9XZB9l06gJ9Czi3b1GSpH58QlWSGmS4S1KDDHdJapDhLkkNMtwlqUGGuyQ1yHCXpAYZ7pLUIMNdkhpkuEtSgwx3SWqQ4S5JDTLcJalBhrskNchwl6QG9Qr3JH+a5J4kdye5KsnzkmxJcluSfUk+neSI5SpWkrQ0Q4d7kg3AnwCTVfVq4DDgLOAjwMeq6uXA94FzlqNQSdLS9Z2WWQM8P8ka4EjgYeANwLXd9t3AmT3PIUka0NDhXlX7gb8FvsNsqP8A2AM8VlVPdd2mgQ0L7Z9kR5KpJFMzMzPDliFJWkCfaZmjgW3AFuClwFHAaUvdv6p2VtVkVU1OTEwMW4YkaQF9pmV+G/hWVc1U1U+B64CTgbXdNA3ARmB/zxolSQPqE+7fAU5KcmSSAKcC9wI3A2/r+mwHru9XoiRpUH3m3G9j9ovTO4C7umPtBD4IvD/JPuDFwGXLUKckaQBrFu9ycFV1EXDRvOYHgBP7HFeS1I9PqEpSgwx3SWqQ4S5JDTLcJalBhrskNchwl6QGGe6S1CDDXZIaZLhLUoMMd0lqkOEuSQ0y3CWpQYa7JDXIcJekBhnuktQgw12SGtQr3JOsTXJtkvuS7E3y2iTHJLkxyTe7z6OXq1hJ0tL0Hbl/AvhCVf0q8BpgL3ABcFNVbQVu6tYlSSM0dLgneRHwOrp3pFbVk1X1GLAN2N112w2c2a9ESdKg+ozctwAzwKeSfC3JpUmOAo6tqoe7Po8Axy60c5IdSaaSTM3MzPQoQ5I0X59wXwOcAFxSVccDP2beFExVFVAL7VxVO6tqsqomJyYmepQhSZqvT7hPA9NVdVu3fi2zYf/dJOsBus8D/UqUJA1q6HCvqkeAh5K8sms6FbgXuAHY3rVtB67vVaEkaWBreu7/XuDKJEcADwDvYfZ/GNckOQd4EHh7z3NIkgbUK9yr6k5gcoFNp/Y5riSpH59QlaQGGe6S1CDDXZIaZLhLUoMMd0lqkOEuSQ0y3CWpQYa7JDXIcJekBhnuktQgw12SGmS4S1KDDHdJapDhLkkNMtwlqUG9wz3JYd0Lsj/XrW9JcluSfUk+3b3IQ5I0Qssxcj8P2Dtn/SPAx6rq5cD3gXOW4RySpAH0CvckG4G3AJd26wHewOzLsgF2A2f2OYckaXB9R+4fB84Hft6tvxh4rKqe6tangQ0L7ZhkR5KpJFMzMzM9y5AkzTV0uCc5AzhQVXuG2b+qdlbVZFVNTkxMDFuGJGkBfV6QfTLw1iRvBp4HvBD4BLA2yZpu9L4R2N+/TEnSIIYeuVfVhVW1sao2A2cBX6qqdwA3A2/rum0Hru9dpSRpICtxn/sHgfcn2cfsHPxlK3AOSdIz6DMt83+q6svAl7vlB4ATl+O4kqTh+ISqJDXIcJekBhnuktQgw12SGmS4S1KDDHdJapDhLkkNMtwlqUGGuyQ1yHCXpAYZ7pLUIMNdkhpkuEtSgwx3SWqQ4S5JDerzDtVNSW5Ocm+Se5Kc17Ufk+TGJN/sPo9evnIlSUvRZ+T+FPCBqjoOOAk4N8lxwAXATVW1FbipW5ckjVCfd6g+XFV3dMs/AvYCG4BtwO6u227gzJ41SpIGtCxz7kk2A8cDtwHHVtXD3aZHgGMPss+OJFNJpmZmZpajDElSp3e4J3kB8BngfVX1w7nbqqqAWmi/qtpZVZNVNTkxMdG3DEnSHL3CPcnhzAb7lVV1Xdf83STru+3rgQP9SpQkDarP3TIBLgP2VtVH52y6AdjeLW8Hrh++PEnSMNb02Pdk4F3AXUnu7No+BHwYuCbJOcCDwNt7VShJGtjQ4V5VXwFykM2nDntcSVJ/PqEqSQ0y3CWpQYa7JDXIcJekBhnuktQgw12SGmS4S1KDDHdJapDhLkkNMtwlqUGGuyQ1yHCXpAYZ7pLUIMNdkhpkuEtSgwx3SWrQioV7ktOS3J9kX5ILVuo8kqSnW5FwT3IY8PfA6cBxwNlJjluJc0mSnm6lRu4nAvuq6oGqehK4Gti2QueSJM3T5wXZz2QD8NCc9WngN+Z2SLID2NGtPp7k/gGOvw74Xq8KxygHe/Ps4p6V193jepZqpNc9gusZRO9rf5Zdz1Id9LpX6fUc1ALXM8jf/JcPtmGlwn1RVbUT2DnMvkmmqmpymUt61vO6Dz2H6rUfqtcNy3ftKzUtsx/YNGd9Y9cmSRqBlQr3rwJbk2xJcgRwFnDDCp1LkjTPikzLVNVTSf4Y+HfgMGBXVd2zjKcYajqnAV73oedQvfZD9bphma49VbUcx5EkPYv4hKokNchwl6QGrZpwT7IryYEkd4+7llFLsinJzUnuTXJPkvPGXdMoJHlektuTfL277r8ad02jlOSwJF9L8rlx1zJKSb6d5K4kdyaZGnc9o5JkbZJrk9yXZG+S1/Y63mqZc0/yOuBx4IqqevW46xmlJOuB9VV1R5JfAvYAZ1bVvWMubUUlCXBUVT2e5HDgK8B5VXXrmEsbiSTvByaBF1bVGeOuZ1SSfBuYrKpn3QN7KynJbuA/q+rS7i7DI6vqsWGPt2pG7lV1C/DouOsYh6p6uKru6JZ/BOxl9ingptWsx7vVw7v/VsdopKckG4G3AJeOuxatvCQvAl4HXAZQVU/2CXZYReGuWUk2A8cDt425lJHopibuBA4AN1bVIXHdwMeB84Gfj7mOcSjgi0n2dD9TcijYAswAn+qm4i5NclSfAxruq0iSFwCfAd5XVT8cdz2jUFU/q6pfZ/Yp5xOTND8ll+QM4EBV7Rl3LWPym1V1ArO/KntuNyXbujXACcAlVXU88GOg10+lG+6rRDfn/Bngyqq6btz1jFr3T9SbgdPGXMoonAy8tZt7vhp4Q5J/Gm9Jo1NV+7vPA8Bnmf2V2dZNA9Nz/mV6LbNhPzTDfRXovli8DNhbVR8ddz2jkmQiydpu+fnA7wD3jbWoEaiqC6tqY1VtZvanO75UVe8cc1kjkeSo7qYBummJNwLN3yFXVY8ADyV5Zdd0KtDrhomx/SrkoJJcBZwCrEsyDVxUVZeNt6qRORl4F3BXN/8M8KGq+vz4ShqJ9cDu7uUvzwGuqapD6rbAQ9CxwGdnxzOsAf65qr4w3pJG5r3Ald2dMg8A7+lzsFVzK6QkaemclpGkBhnuktQgw12SGmS4S1KDDHdJapDhLkkNMtwlqUH/C9Z8EwJW38HLAAAAAElFTkSuQmCC\n\"/>",
     " _ = plt.hist(x=uniform, bins=6, color='#0504aa', rwidth=0.85) ": "<img src=\"data:image/png;base64,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\n\"/>"
    }
   },
   "source": [
    "### Empirical tests\n",
    "\n",
    "Knuth presents 10 \"empirical\" tests \"applied to sequences in order to investigate their randomness\".\n",
    "\n",
    "For an example, the first of these tests is the *Equidistribution test* or *Frequency test*, that the numbers from the sequence are uniformly distributed across their range. One alternative is to plot a histogram.\n",
    "\n",
    "**Histogram for `rolls`**\n",
    "\n",
    "{{ _ = plt.hist(x=rolls, bins=6, color='#0504aa', rwidth=0.85) }}\n",
    "\n",
    "**Histogram for `repetition`**\n",
    "\n",
    "{{ _ = plt.hist(x=repetition, bins=6, color='#0504aa', rwidth=0.85) }}\n",
    "\n",
    "At least it's lovely and even.\n",
    "\n",
    "**Histogram for `sorted_rolls`**\n",
    "\n",
    "{{ _ = plt.hist(x=sorted_rolls, bins=6, color='#0504aa', rwidth=0.85) }}\n",
    "\n",
    "Weirdly similar to `rolls`.\n",
    "\n",
    "**Histogram for `duplicated`**\n",
    "\n",
    "{{ _ = plt.hist(x=duplicated, bins=6, color='#0504aa', rwidth=0.85) }}\n",
    "\n",
    "A slightly more emphatic version of `rolls`.\n",
    "\n",
    "**Histogram for `normal`**\n",
    "\n",
    "{{ _ = plt.hist(x=normal, bins=6, color='#0504aa', rwidth=0.85) }}\n",
    "\n",
    "Very definitely odd.\n",
    "\n",
    "**Histogram for `uniform`**\n",
    "\n",
    "{{ _ = plt.hist(x=uniform, bins=6, color='#0504aa', rwidth=0.85) }}\n",
    "\n",
    "But Knuth points out that determining whether the sequence elements are uniformly distributed across their range is one of the purposes of the $\\chi^2$ and KS tests. So that seems rather taken care of."
   ]
  },
  {
   "cell_type": "markdown",
   "id": "vulnerable-location",
   "metadata": {},
   "source": [
    "#### Serial test\n",
    "\n",
    "This test determines whether sub-sequences of successive numbers are uniformly distributed in an independent matter. It does this by counting how often given sub-sequences (i.e. $s_i, ..., s_{i+n}$ for a sub-sequence of length $n+1$) and then running the $\\chi^2$ test against the counts."
   ]
  },
  {
   "cell_type": "code",
   "execution_count": 10,
   "id": "south-calculator",
   "metadata": {},
   "outputs": [],
   "source": [
    "def inc_bin(ary, n, loc):\n",
    "    elt = 0\n",
    "    for i in loc:\n",
    "        elt = (elt * n) + (i - 1)\n",
    "    ary[elt] += 1\n",
    "\n",
    "def serial_test(sample, n):\n",
    "    ary = [0] * (6 ** n)\n",
    "    for loc in by_n_overlap(sample, n):\n",
    "        inc_bin(ary, 6, loc)\n",
    "    return chi2test(ary)"
   ]
  },
  {
   "cell_type": "markdown",
   "id": "architectural-independence",
   "metadata": {
    "variables": {
     " p(serial_test(duplicated, 2)) ": "0.0%",
     " p(serial_test(duplicated, 3)) ": "0.0%",
     " p(serial_test(normal, 2)) ": "0.0%",
     " p(serial_test(normal, 3)) ": "0.0%",
     " p(serial_test(repetition, 2)) ": "0.0%",
     " p(serial_test(repetition, 3)) ": "0.0%",
     " p(serial_test(rolls, 2)) ": "90.6%",
     " p(serial_test(rolls, 3)) ": "94.1%",
     " p(serial_test(sorted_rolls, 2)) ": "0.0%",
     " p(serial_test(sorted_rolls, 3)) ": "0.0%",
     " p(serial_test(uniform, 2)) ": "28.9%",
     " p(serial_test(uniform, 3)) ": "40.2%"
    }
   },
   "source": [
    "The serial test values for the various sequences are:\n",
    "\n",
    "| Sequence | Length 2 | Length 3 |\n",
    "|:--------:|:--------:|:--------:|\n",
    "| `rolls`  | {{ p(serial_test(rolls, 2)) }} | {{ p(serial_test(rolls, 3)) }} |\n",
    "| `repetition`  | {{ p(serial_test(repetition, 2)) }} | {{ p(serial_test(repetition, 3)) }} |\n",
    "| `sorted_rolls`  | {{ p(serial_test(sorted_rolls, 2)) }} | {{ p(serial_test(sorted_rolls, 3)) }} |\n",
    "| `duplicated`  | {{ p(serial_test(duplicated, 2)) }} | {{ p(serial_test(duplicated, 3)) }} |\n",
    "| `normal` | {{ p(serial_test(normal, 2)) }} | {{ p(serial_test(normal, 3)) }} |\n",
    "| `uniform` | {{ p(serial_test(uniform, 2)) }} | {{ p(serial_test(uniform, 3)) }} |\n",
    "\n",
    "**The serial test does a very good job of separating `rolls` and `uniform` from samples with non-uniformly random local behavior.** Unfortunately, serial lengths much above 3 lead to large numbers of bins for the $\\chi^2$ and reduced counts in the bins."
   ]
  },
  {
   "cell_type": "markdown",
   "id": "about-casino",
   "metadata": {},
   "source": [
    "#### Gap test\n",
    "\n",
    "The gap test examines the length of \"gaps\" between two occurrences of a given value. I'm totally ignoring Knuth's algorithm for this because it is intended for continuous values and because I just don't see what he's getting at for them.\n",
    "\n",
    "The probability distribution that the gap lengths should be compared against is:\n",
    "\n",
    "$$\n",
    "p_r = \n",
    "\\begin{cases}\n",
    "p (1 - p)^r & \\textrm{if } 0 \\leq r \\lt t \\\\\n",
    "(1 - p)^r     & \\textrm{if } r = t\n",
    "\\end{cases}\n",
    "$$\n",
    "\n",
    "for $0 \\leq r \\leq t$ and where $p$ is the probability of a dice rolling a given side, $1/\\textrm{bins}$. When $0 \\leq r \\lt t$, $r$ the index into the counts and $t$ is a catch-all gap length to limit the number of counts---any gap longer than $t$ is counted in $t$."
   ]
  },
  {
   "cell_type": "code",
   "execution_count": 11,
   "id": "usual-slope",
   "metadata": {},
   "outputs": [],
   "source": [
    "def count_gaps(sample, bins):\n",
    "    'Count the gaps between subsequent occurances '\n",
    "    'of each element of sample. The elements of the '\n",
    "    'sample should be in 0..bins.'\n",
    "    counts = {}\n",
    "    seen = {}\n",
    "    for i in range(0, bins): seen[i] = 0\n",
    "    for elt in sample:\n",
    "        for i in range(0, bins):\n",
    "            if i == (elt - 1):\n",
    "                # update counts for current elt\n",
    "                if seen[i] in counts:\n",
    "                    counts[seen[i]] += 1\n",
    "                else:\n",
    "                    counts[seen[i]] = 1\n",
    "                seen[i] = 0\n",
    "            else:\n",
    "                # increment seen for non-current elt\n",
    "                seen[i] += 1\n",
    "    # finish counts at end of sample\n",
    "    for i in seen:\n",
    "        if seen[i] in counts:\n",
    "            counts[seen[i]] += 1\n",
    "        else:\n",
    "            counts[seen[i]] = 1\n",
    "    return [\n",
    "        counts[k] if k in counts else 0\n",
    "        for k in range(0, max(counts) + 1)\n",
    "    ]\n",
    "\n",
    "def gap_test(sample, bins):\n",
    "    'Perform the gap test on sample, returning a '\n",
    "    'pvalue. The elements of the sample should be '\n",
    "    'in 0..bins.'\n",
    "    counts = count_gaps(sample, bins)\n",
    "    p = 1 / bins\n",
    "    n = len(counts)\n",
    "    s = sum(counts)\n",
    "    f_exp = [\n",
    "        s * p * pow(1 - p, i)\n",
    "        for i in range(0, n)\n",
    "    ]\n",
    "    f_exp[n - 1] = s * pow(1 - p, n - 1)\n",
    "    return chi2test(\n",
    "        counts,\n",
    "        f_exp = f_exp\n",
    "    )"
   ]
  },
  {
   "cell_type": "markdown",
   "id": "ordered-worse",
   "metadata": {
    "variables": {
     " p(gap_test(duplicated, 6)) ": "0.0%",
     " p(gap_test(normal, 6)) ": "0.0%",
     " p(gap_test(repetition, 6)) ": "0.0%",
     " p(gap_test(rolls, 6)) ": "61.1%",
     " p(gap_test(sorted_rolls, 6)) ": "0.0%",
     " p(gap_test(uniform, 6)) ": "89.0%"
    }
   },
   "source": [
    "The gap test values for the various samples are:\n",
    "\n",
    "| Sequence | Gap test |\n",
    "|:--------:|:--------:|\n",
    "| `rolls`  | {{ p(gap_test(rolls, 6)) }} |\n",
    "| `repetition`  | {{ p(gap_test(repetition, 6)) }} |\n",
    "| `sorted_rolls`  | {{ p(gap_test(sorted_rolls, 6)) }} |\n",
    "| `duplicated`  | {{ p(gap_test(duplicated, 6)) }} |\n",
    "| `normal` | {{ p(gap_test(normal, 6)) }} |\n",
    "| `uniform` | {{ p(gap_test(uniform, 6)) }} |\n",
    "\n",
    "Once again, **the gap test does a good job of differentiating `rolls` from the other samples,** whose gaps do not match the expected distribution for various reasons."
   ]
  },
  {
   "cell_type": "markdown",
   "id": "underlying-prayer",
   "metadata": {},
   "source": [
    "#### Poker test\n",
    "\n",
    "The probability distribution that the poker test should be compared against is:\n",
    "\n",
    "$$\n",
    "p_r = \\frac{\\Pi_{0 \\leq i \\leq r + 1}(d - i)}{d^k}{k \\brace r}\n",
    "$$\n",
    "\n",
    "Where $d$ is the number of bins, $0 \\leq r \\lt \\textrm{bins}$ and $k$ is the size of the poker hand."
   ]
  },
  {
   "cell_type": "code",
   "execution_count": 12,
   "id": "daily-conversation",
   "metadata": {},
   "outputs": [],
   "source": [
    "def poker_dist(d, k, r):\n",
    "    prod = 1\n",
    "    for t in range(d, d - r, -1):\n",
    "        prod *= t\n",
    "    return Stirling(k, r) * prod / pow(d, k)\n",
    "\n",
    "def poker_test(sample, n, bins=6):\n",
    "    sequence = by_n_overlap(sample, n)\n",
    "    counts = count(\n",
    "        map(lambda elt: len(set(elt)), sequence),\n",
    "        n\n",
    "    )\n",
    "    return chi2test(\n",
    "        counts,\n",
    "        f_exp = [\n",
    "            sum(counts) * poker_dist(bins, n, r)\n",
    "            for r in range(1, bins)\n",
    "        ]\n",
    "    )"
   ]
  },
  {
   "cell_type": "markdown",
   "id": "million-consciousness",
   "metadata": {
    "variables": {
     " p(poker_test(duplicated, 5)) ": "0.0%",
     " p(poker_test(normal, 5)) ": "0.0%",
     " p(poker_test(repetition, 5)) ": "0.0%",
     " p(poker_test(rolls, 5)) ": "13.3%",
     " p(poker_test(sorted_rolls, 5)) ": "0.0%",
     " p(poker_test(uniform, 5)) ": "73.0%"
    }
   },
   "source": [
    "| Sequence | Poker test |\n",
    "|:--------:|:--------:|\n",
    "| `rolls`  | {{ p(poker_test(rolls, 5)) }} |\n",
    "| `repetition`  | {{ p(poker_test(repetition, 5)) }} |\n",
    "| `sorted_rolls`  | {{ p(poker_test(sorted_rolls, 5)) }} |\n",
    "| `duplicated`  | {{ p(poker_test(duplicated, 5)) }} |\n",
    "| `normal` | {{ p(poker_test(normal, 5)) }} |\n",
    "| `uniform` | {{ p(poker_test(uniform, 5)) }} |\n"
   ]
  },
  {
   "cell_type": "markdown",
   "id": "pregnant-disorder",
   "metadata": {},
   "source": [
    "#### Coupon collector's test\n",
    "\n",
    "$$\n",
    "p_r =\n",
    "\\begin{cases}\n",
    "\\frac{d!}{d^r}{r - 1 \\brace d - 1} & \\textrm{if } d \\leq r \\lt t \\\\\n",
    "1 - \\frac{d!}{d^{t-1}}{t - 1 \\brace d} & \\textrm{if } r = t\n",
    "\\end{cases}\n",
    "$$"
   ]
  },
  {
   "cell_type": "code",
   "execution_count": 13,
   "id": "excess-abuse",
   "metadata": {},
   "outputs": [],
   "source": [
    "def coupon_count(sample, bins):\n",
    "    count  = {}\n",
    "    occurs = [False] * bins\n",
    "    length = 0\n",
    "    for x in sample:\n",
    "        occurs[x - 1] = True\n",
    "        length += 1\n",
    "        if all(occurs):\n",
    "            if length in count:\n",
    "                count[length] += 1\n",
    "            else:\n",
    "                count[length] = 1\n",
    "            length = 0\n",
    "            occurs = [False] * bins\n",
    "    # build result array\n",
    "    # min len(result) = 2 * bins\n",
    "    # skip the first bins elements\n",
    "    # because they're always 0\n",
    "    counts = max(count) + 1 - bins\n",
    "    min_counts = 2 * bins\n",
    "    result = [\n",
    "        count[k] if k in count else 0\n",
    "        for k in range(\n",
    "            bins,\n",
    "            bins + max(counts, min_counts)\n",
    "        )\n",
    "    ]\n",
    "    # maximum len(result) = 5 * bins\n",
    "    max_counts = 5 * bins\n",
    "    if len(result) > max_counts:\n",
    "        s = sum(result[max_counts:])\n",
    "        result = result[:max_counts]\n",
    "        result[max_counts - 1] += s\n",
    "    return result\n",
    "    \n",
    "def coupon_test(sample, bins):\n",
    "    count  = coupon_count(sample, bins)\n",
    "    total  = sum(count)\n",
    "    counts = len(count)\n",
    "    f_exp = [\n",
    "        total * ((fact(bins) / pow(bins, r)) * Stirling(r - 1, bins - 1))\n",
    "        for r in range(bins, counts + bins - 1)\n",
    "    ]\n",
    "    f_exp.append(\n",
    "        total * (1 - ((fact(bins) / pow(bins, counts - 1)) * Stirling(counts - 1, bins)))\n",
    "    )\n",
    "    return chi2test(count, f_exp=f_exp)"
   ]
  },
  {
   "cell_type": "markdown",
   "id": "adaptive-plumbing",
   "metadata": {
    "variables": {
     " p(coupon_test(duplicated, 6)) ": "0.0%",
     " p(coupon_test(normal, 6)) ": "0.0%",
     " p(coupon_test(repetition, 6)) ": "0.0%",
     " p(coupon_test(rolls, 6)) ": "89.6%",
     " p(coupon_test(sorted_rolls, 6)) ": "31.5%",
     " p(coupon_test(uniform, 6)) ": "34.9%"
    }
   },
   "source": [
    "| Sequence | Coupon collector's test |\n",
    "|:--------:|:--------:|\n",
    "| `rolls`  | {{ p(coupon_test(rolls, 6)) }} |\n",
    "| `repetition`  | {{ p(coupon_test(repetition, 6)) }} |\n",
    "| `sorted_rolls`  | {{ p(coupon_test(sorted_rolls, 6)) }} |\n",
    "| `duplicated`  | {{ p(coupon_test(duplicated, 6)) }} |\n",
    "| `normal` | {{ p(coupon_test(normal, 6)) }} |\n",
    "| `uniform` | {{ p(coupon_test(uniform, 6)) }} |\n"
   ]
  },
  {
   "cell_type": "markdown",
   "id": "present-cylinder",
   "metadata": {},
   "source": [
    "#### Permutation test"
   ]
  },
  {
   "cell_type": "code",
   "execution_count": 14,
   "id": "miniature-honolulu",
   "metadata": {},
   "outputs": [
    {
     "data": {
      "text/plain": [
       "(4.739064889233372e-06, 1.9127050172830083e-06, 0.7305096429627241)"
      ]
     },
     "execution_count": 14,
     "metadata": {},
     "output_type": "execute_result"
    }
   ],
   "source": [
    "def max_loc(perm, end):\n",
    "    loc = 0\n",
    "    max = perm[0]\n",
    "    for i in range(1, end):\n",
    "        if perm[i] > max:\n",
    "            loc = i\n",
    "            max = perm[i]\n",
    "    return loc\n",
    "\n",
    "def perm_int(perm):\n",
    "    f = 0\n",
    "    for r in range(len(perm), 1, -1):\n",
    "        s = max_loc(perm, r) + 1\n",
    "        f = r * f + s - 1\n",
    "        perm[r - 1], perm[s - 1] = perm[s - 1], perm[r - 1]\n",
    "    return f\n",
    "\n",
    "def permutation_count(sample, n):\n",
    "    count = [0] * fact(n)\n",
    "    for seq in by_n(sample, n):\n",
    "        pi = perm_int(seq)\n",
    "        count[pi] += 1\n",
    "    return count\n",
    "\n",
    "def permutation_test(sample, n):\n",
    "    return chi2test(permutation_count(sample,n))\n",
    "\n",
    "(\n",
    "    permutation_test(rolls, 3), permutation_test(uniform, 3), \n",
    "    permutation_test(list(scipy.stats.norm.rvs(size=len(rolls))), 3)\n",
    ")"
   ]
  },
  {
   "cell_type": "markdown",
   "id": "inappropriate-athletics",
   "metadata": {
    "variables": {
     " _ = plt.bar(x=[0,1,2,3,4,5], height=permutation_count(rolls, 3), color='#0504aa', width=0.85) ": "<img src=\"data:image/png;base64,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\n\"/>",
     " _ = plt.bar(x=[0,1,2,3,4,5], height=permutation_count(uniform, 3), color='#0504aa', width=0.85) ": "<img src=\"data:image/png;base64,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\n\"/>",
     " p(permutation_test(duplicated, 3)) ": "0.0%",
     " p(permutation_test(normal, 3)) ": "0.0%",
     " p(permutation_test(repetition, 3)) ": "0.0%",
     " p(permutation_test(rolls, 3)) ": "0.0%",
     " p(permutation_test(sorted_rolls, 3)) ": "0.0%",
     " p(permutation_test(uniform, 3)) ": "0.0%"
    }
   },
   "source": [
    "\n",
    "| Sequence | Permutation test |\n",
    "|:--------:|:--------:|\n",
    "| `rolls`  | {{ p(permutation_test(rolls, 3)) }} |\n",
    "| `repetition`  | {{ p(permutation_test(repetition, 3)) }} |\n",
    "| `sorted_rolls`  | {{ p(permutation_test(sorted_rolls, 3)) }} |\n",
    "| `duplicated`  | {{ p(permutation_test(duplicated, 3)) }} |\n",
    "| `normal` | {{ p(permutation_test(normal, 3)) }} |\n",
    "| `uniform` | {{ p(permutation_test(uniform, 3)) }} |\n",
    "\n",
    "**`rolls` histogram**\n",
    "\n",
    "{{ _ = plt.bar(x=[0,1,2,3,4,5], height=permutation_count(rolls, 3), color='#0504aa', width=0.85) }}\n",
    "\n",
    "**`uniform` histogram**\n",
    "\n",
    "{{ _ = plt.bar(x=[0,1,2,3,4,5], height=permutation_count(uniform, 3), color='#0504aa', width=0.85) }}\n"
   ]
  },
  {
   "cell_type": "markdown",
   "id": "dirty-vertex",
   "metadata": {},
   "source": [
    "#### Run test"
   ]
  },
  {
   "cell_type": "code",
   "execution_count": 15,
   "id": "coupled-thailand",
   "metadata": {},
   "outputs": [
    {
     "data": {
      "text/plain": [
       "(0.7353814964020309, 0.32035393791619565)"
      ]
     },
     "execution_count": 15,
     "metadata": {},
     "output_type": "execute_result"
    }
   ],
   "source": [
    "def runs_up(sample, n):\n",
    "    count = [0] * n\n",
    "    k = 1\n",
    "    i = 0\n",
    "    while i < len(sample) - 1:\n",
    "        if sample[i] <= sample[i+1]:\n",
    "            k += 1\n",
    "            i += 1\n",
    "        else:\n",
    "            if k < n:\n",
    "                count[k - 1] += 1\n",
    "            else:\n",
    "                count[n - 1] += 1\n",
    "            k = 1\n",
    "            i += 2\n",
    "    if k < n:\n",
    "        count[k - 1] += 1\n",
    "    else:\n",
    "        count[n - 1] += 1\n",
    "    return count\n",
    "\n",
    "def runs_fexp(s, n):\n",
    "    return [\n",
    "        s * ((1 / fact(r)) - (1 / fact(r + 1)))\n",
    "        for r in range(1, n + 1)\n",
    "    ]\n",
    "\n",
    "def runs_test(sample, n):\n",
    "    c = runs_up(sample, n)\n",
    "    s = sum(c)\n",
    "    f = runs_fexp(s, n)\n",
    "    return chi2test(c, f_exp=f)\n",
    "\n",
    "def runs_bar(sample, n):\n",
    "    width = 0.45\n",
    "    xs = range(0,n)\n",
    "    count = runs_up(rolls, n)\n",
    "    plt.bar(x=xs, height=count, color='#0504aa', width=-0.4, align='edge', label='Sample')\n",
    "    plt.bar(x=xs, height=runs_fexp(sum(count), n), color='#aa0405', width=0.4, align='edge', label='Expected')\n",
    "    plt.legend()\n",
    "\n",
    "(\n",
    "runs_test(list(scipy.stats.uniform.rvs(size=len(rolls))), 5),\n",
    "runs_test(list(scipy.stats.norm.rvs(size=len(rolls))), 5)\n",
    ")\n"
   ]
  },
  {
   "cell_type": "markdown",
   "id": "exciting-mirror",
   "metadata": {
    "variables": {
     " p(runs_test(duplicated, 5)) ": "0.0%",
     " p(runs_test(normal, 5)) ": "0.0%",
     " p(runs_test(repetition, 5)) ": "0.0%",
     " p(runs_test(rolls, 5)) ": "0.0%",
     " p(runs_test(sorted_rolls, 5)) ": "0.0%",
     " p(runs_test(uniform, 5)) ": "0.0%",
     " runs_bar(rolls, 5) ": "<img src=\"data:image/png;base64,iVBORw0KGgoAAAANSUhEUgAAAXcAAAD4CAYAAAAXUaZHAAAAOXRFWHRTb2Z0d2FyZQBNYXRwbG90bGliIHZlcnNpb24zLjMuNCwgaHR0cHM6Ly9tYXRwbG90bGliLm9yZy8QVMy6AAAACXBIWXMAAAsTAAALEwEAmpwYAAAWoklEQVR4nO3df3BW5Z338feHEEAEpYVokTBPqALlV0EaFAarbHms2HVEHSkwtUutT9MK2q7bH4v7dB61AzPu4vhjW2WkwgNOBRS3W63j7oMVtk7rD0jYYIFIQasSBiVQYKGiBPk+f+TAxhhIcv+Uk89rhsl9rnPOfX0PTj4cr/u6r6OIwMzM0qVLsQswM7Pcc7ibmaWQw93MLIUc7mZmKeRwNzNLoa7FLgCgX79+UVFRUewyzMxOKzU1NXsioqy1fZ+IcK+oqKC6urrYZZiZnVYkvXWyfR6WMTNLIYe7mVkKOdzNzFLoEzHmbmbp1djYSH19Pe+//36xSzlt9ejRg/LyckpLS9t9jsPdzPKqvr6e3r17U1FRgaRil3PaiQj27t1LfX09gwYNavd5HpYxs7x6//336du3r4M9Q5Lo27dvh//Px+FuZnnnYM9OJn9/DnczsxTymLuZFVS30lU5fb8jjdPaPGb+/PksX76ckpISunTpwsMPP8zFF1+c0zqOmzRpEvfccw+VlZV5ef/2cri306rSbnnvY1rjkbz3YdbZvPTSSzzzzDNs2LCB7t27s2fPHo4cSf/vmodlzCzVdu3aRb9+/ejevTsA/fr147zzzuMnP/kJ48aNY+TIkVRVVXH8qXSTJk3itttuo7KykmHDhrF+/Xquu+46Bg8ezI9//GMA3nzzTT73uc/xta99jWHDhnH99dfz3nvvfazv1atXM2HCBMaOHcu0adM4dOhQwa7b4W5mqfblL3+ZHTt2MGTIEGbPns1vf/tbAG655RbWr1/Ppk2bOHz4MM8888yJc7p160Z1dTXf+c53mDp1Kg8++CCbNm1i6dKl7N27F4CtW7cye/Zs6urqOOuss3jooYc+0u+ePXuYN28ev/nNb9iwYQOVlZXce++9Bbtuh7uZpVqvXr2oqalh0aJFlJWVMX36dJYuXcratWu5+OKLGTVqFGvWrGHz5s0nzrn66qsBGDVqFCNGjKB///50796dz372s+zYsQOAgQMHMnHiRABuuOEGfve7332k35dffpktW7YwceJExowZw7Jly3jrrZOu85VzHnM3s9QrKSlh0qRJTJo0iVGjRvHwww/z6quvUl1dzcCBA7nzzjs/Mo/8+BBOly5dTrw+vn306FHg49MTW25HBJdffjkrVqzI12Wdku/czSzVtm7dyrZt205s19bWMnToUKBp/P3QoUM8+eSTHX7ft99+m5deegmA5cuXc8kll3xk//jx4/n973/P9u3bAfjLX/7CH//4x0wvo8N8525mBdWeqYu5dOjQIW699Vb2799P165dueCCC1i0aBF9+vRh5MiRfOYzn2HcuHEdft+hQ4fy4IMP8s1vfpPhw4dz8803f2R/WVkZS5cuZebMmXzwwQcAzJs3jyFDhuTkutqi458QF1NlZWV80h/W4amQZpmpq6tj2LBhxS4jp958802uuuoqNm3aVLA+W/t7lFQTEa1OqG9zWEbSEkm7JW1q0X6rpNckbZb0T83ab5e0XdJWSVdkeB1mZpaF9gzLLAV+Bjx6vEHSXwFTgdER8YGkc5L24cAMYARwHvAbSUMi4sNcF25mViwVFRUFvWvPRJt37hHxAvDnFs03A3dHxAfJMbuT9qnAyoj4ICL+BGwHLsphvWZm1g6ZzpYZAnxR0iuSfivp+KcRA4AdzY6rT9o+RlKVpGpJ1Q0NDRmWYWZmrck03LsCnwbGAz8EnlAH16SMiEURURkRlWVlZRmWYWZmrck03OuBX0aTdcAxoB+wExjY7LjypM3MzAoo03nuvwL+ClgraQjQDdgDPA0sl3QvTR+oDgbW5aBOM0uJXE8rbs8U4pKSEkaNGnVie8aMGcydOzendbS0f/9+li9fzuzZszt03p133kmvXr34wQ9+kFX/bYa7pBXAJKCfpHrgDmAJsCSZHnkEmBVNE+Y3S3oC2AIcBeZ4poyZFdsZZ5xBbW1tQfvcv38/Dz30UIfDPVfaM1tmZkT0j4jSiCiPiMURcSQiboiIkRExNiLWNDt+fkScHxFDI+Lf8lu+mVlmDhw4wNChQ9m6dSsAM2fO5Oc//znQtNjYbbfdxogRI5g8eTLHJ328/vrrTJkyhS984Qt88Ytf5LXXXgPg3Xff5dprr2X06NGMHj2aF198kblz5/L6668zZswYfvjDHwKwYMECxo0bx+c//3nuuOOOE7XMnz+fIUOGcMkll5yoJ1teW8bMUu/w4cOMGTPmxJ/HH3+cs88+m5/97Gd84xvfYOXKlezbt49vfetbQNM6MJWVlWzevJnLLruMu+66C4Cqqip++tOfUlNTwz333HPirvy73/0ul112GRs3bmTDhg2MGDGCu+++m/PPP5/a2loWLFjA6tWr2bZtG+vWraO2tpaamhpeeOEFampqWLlyJbW1tTz77LOsX78+J9fstWXMLPVONixz+eWXs2rVKubMmcPGjRtPtHfp0oXp06cDTcv5XnfddRw6dIgXX3yRadP+e22c42vGrFmzhkcfbfqeZ0lJCWeffTb79u37SF+rV69m9erVXHjhhUDTmjfbtm3j4MGDXHvttfTs2RP47+WGs+VwN7NO69ixY9TV1dGzZ0/27dtHeXl5q8dJ4tixY/Tp0yfjsfuI4Pbbb+fb3/72R9rvv//+jN6vLR6WMbNO67777mPYsGEsX76cG2+8kcbGRqAp9I8vA3x8Od+zzjqLQYMGsWpV0wO+I+LE3f7kyZNZuHAhAB9++CEHDhygd+/eHDx48ERfV1xxBUuWLDnxqL2dO3eye/duLr30Un71q19x+PBhDh48yK9//eucXJvv3M2soIqx+unxMffjpkyZwo033sgjjzzCunXr6N27N5deeinz5s3jrrvu4swzz2TdunXMmzePc845h8cffxyAxx57jJtvvpl58+bR2NjIjBkzGD16NA888ABVVVUsXryYkpISFi5cyIQJE5g4cSIjR47kyiuvZMGCBdTV1TFhwgSg6UPbX/ziF4wdO5bp06czevRozjnnnIyWH26Nl/xtJy/5a5aZ03HJ3169ehX0YdbtkfMlf83M7PTjcDcza+GTdteeCYe7meXdJ2H493SWyd+fw93M8qpHjx7s3bvXAZ+hiGDv3r306NGjQ+d5toyZ5VV5eTn19fX4uQ2Z69Gjx0nn4J+Mw93M8qq0tJRBgwYVu4xOx8MyZmYp5HA3M0shh7uZWQo53M3MUqjNcJe0RNLu5KlLLfd9X1JI6pdsS9I/S9ou6VVJY/NRtJmZnVp77tyXAlNaNkoaCHwZeLtZ85U0PTd1MFAFLMy+RDMz66j2PGbvBeDPrey6D/gR0PybCVOBR6PJy0AfSf1zUqmZmbVbRmPukqYCOyNiY4tdA4Adzbbrk7bW3qNKUrWkan+5wcwstzoc7pJ6Av8A/J9sOo6IRRFRGRGVZWVl2byVmZm1kMk3VM8HBgEbJQGUAxskXQTsBAY2O7Y8aTMzswLq8J17RPwhIs6JiIqIqKBp6GVsRLwDPA38TTJrZjxwICJ25bZkMzNrS3umQq4AXgKGSqqXdNMpDn8WeAPYDvwcmJ2TKs3MrEPaHJaJiJlt7K9o9jqAOdmXZWZm2fA3VM3MUsjhbmaWQg53M7MUcribmaXQaf8kpm6lqwrSz2MF6cXMLDd8525mlkIOdzOzFHK4m5mlkMPdzCyFHO5mZinkcDczSyGHu5lZCjnczcxSyOFuZpZCDnczsxRqz8M6lkjaLWlTs7YFkl6T9Kqkf5XUp9m+2yVtl7RV0hV5qtvMzE6hPXfuS4EpLdqeA0ZGxOeBPwK3A0gaDswARiTnPCSpJGfVmplZu7TnSUwvSKpo0ba62ebLwPXJ66nAyoj4APiTpO3ARTQ9ps/yoBALpx1pnJb3Pswst3Ix5v5N4N+S1wOAHc321SdtHyOpSlK1pOqGhoYclGFmZsdlFe6S/jdwlAxWxI2IRRFRGRGVZWVl2ZRhZmYtZLyeu6RvAFcBk5MHYwPsBAY2O6w8aTMzswLK6M5d0hTgR8DVEfFes11PAzMkdZc0CBgMrMu+TDMz64g279wlrQAmAf0k1QN30DQ7pjvwnCSAlyPiOxGxWdITwBaahmvmRMSH+SrezMxa157ZMjNbaV58iuPnA/OzKcrMzLLjb6iamaWQw93MLIUc7mZmKZTxVEjrPFaVditIP9MajxSkH7POwHfuZmYp5HA3M0shh7uZWQo53M3MUsjhbmaWQg53M7MUcribmaWQw93MLIUc7mZmKeRwNzNLIYe7mVkKtRnukpZI2i1pU7O2T0t6TtK25OenknZJ+mdJ2yW9KmlsPos3M7PWtefOfSkwpUXbXOD5iBgMPJ9sA1xJ06P1BgNVwMLclGlmZh3RZrhHxAvAn1s0TwWWJa+XAdc0a380mrwM9JHUP0e1mplZO2U65n5uROxKXr8DnJu8HgDsaHZcfdJmZmYFlPUHqhERQHT0PElVkqolVTc0NGRbhpmZNZNpuL97fLgl+bk7ad8JDGx2XHnS9jERsSgiKiOisqysLMMyzMysNZmG+9PArOT1LOCpZu1/k8yaGQ8caDZ8Y2ZmBdLmY/YkrQAmAf0k1QN3AHcDT0i6CXgL+Gpy+LPAV4DtwHvAjXmo2czM2tBmuEfEzJPsmtzKsQHMybYoMzPLjr+hamaWQg53M7MUcribmaWQw93MLIUc7mZmKeRwNzNLIYe7mVkKOdzNzFLI4W5mlkIOdzOzFHK4m5mlkMPdzCyFHO5mZinkcDczSyGHu5lZCjnczcxSKKtwl3SbpM2SNklaIamHpEGSXpG0XdLjkrrlqlgzM2ufjMNd0gDgu0BlRIwESoAZwD8C90XEBcA+4KZcFGpmZu2X7bBMV+AMSV2BnsAu4EvAk8n+ZcA1WfZhZmYdlHG4R8RO4B7gbZpC/QBQA+yPiKPJYfXAgNbOl1QlqVpSdUNDQ6ZlmJlZK7IZlvkUMBUYBJwHnAlMae/5EbEoIiojorKsrCzTMszMrBXZDMv8T+BPEdEQEY3AL4GJQJ9kmAagHNiZZY1mZtZB2YT728B4ST0lCZgMbAHWAtcnx8wCnsquRDMz66hsxtxfoemD0w3AH5L3WgT8PfB3krYDfYHFOajTzMw6oGvbh5xcRNwB3NGi+Q3gomze18zMsuNvqJqZpZDD3cwshRzuZmYp5HA3M0shh7uZWQo53M3MUsjhbmaWQg53M7MUcribmaWQw93MLIWyWn7ArJi6la4qSD9HGqcVpB+zXPKdu5lZCjnczcxSyOFuZpZCDnczsxTKKtwl9ZH0pKTXJNVJmiDp05Kek7Qt+fmpXBVrZmbtk+2d+wPAv0fE54DRQB0wF3g+IgYDzyfbZmZWQBmHu6SzgUtJHqMXEUciYj8wFViWHLYMuCa7Es3MrKOyuXMfBDQA/1fSf0p6RNKZwLkRsSs55h3g3NZOllQlqVpSdUNDQxZlmJlZS9mEe1dgLLAwIi4E/kKLIZiICCBaOzkiFkVEZURUlpWVZVGGmZm1lE241wP1EfFKsv0kTWH/rqT+AMnP3dmVaGZmHZVxuEfEO8AOSUOTpsnAFuBpYFbSNgt4KqsKzcysw7JdW+ZW4DFJ3YA3gBtp+gfjCUk3AW8BX82yDzMz66Cswj0iaoHKVnZNzuZ9zcwsO/6GqplZCjnczcxSyOFuZpZCDnczsxRyuJuZpZDD3cwshRzuZmYp5HA3M0shh7uZWQo53M3MUsjhbmaWQg53M7MUcribmaWQw93MLIUc7mZmKeRwNzNLoWyfxISkEqAa2BkRV0kaBKwE+gI1wNcj4ki2/ZgVy6rSbnnvY1qjf0Ust3Jx5/49oK7Z9j8C90XEBcA+4KYc9GFmZh2QVbhLKgf+Gngk2RbwJeDJ5JBlwDXZ9GFmZh2X7Z37/cCPgGPJdl9gf0QcTbbrgQGtnSipSlK1pOqGhoYsyzAzs+YyDndJVwG7I6Imk/MjYlFEVEZEZVlZWaZlmJlZK7L5QHUicLWkrwA9gLOAB4A+kromd+/lwM7syzQzs47I+M49Im6PiPKIqABmAGsi4mvAWuD65LBZwFNZV2lmZh2Sj3nufw/8naTtNI3BL85DH2ZmdgpZz3MHiIj/AP4jef0GcFEu3tfMzDLjb6iamaWQw93MLIUc7mZmKeRwNzNLIYe7mVkKOdzNzFLI4W5mlkIOdzOzFHK4m5mlkMPdzCyFHO5mZinkcDczSyGHu5lZCjnczcxSyOFuZpZC2TxDdaCktZK2SNos6XtJ+6clPSdpW/LzU7kr18zM2iObO/ejwPcjYjgwHpgjaTgwF3g+IgYDzyfbZmZWQNk8Q3VXRGxIXh8E6oABwFRgWXLYMuCaLGs0M7MOysmYu6QK4ELgFeDciNiV7HoHOPck51RJqpZU3dDQkIsyzMwskXW4S+oF/AvwtxHxX833RUQA0dp5EbEoIiojorKsrCzbMszMrJmswl1SKU3B/lhE/DJpfldS/2R/f2B3diWamVlHZTNbRsBioC4i7m2262lgVvJ6FvBU5uWZmVkmumZx7kTg68AfJNUmbf8A3A08Iekm4C3gq1lVaGZmHZZxuEfE7wCdZPfkTN/XzMyy52+ompmlkMPdzCyFHO5mZinkcDczS6FsZsuYWRF1K12V9z6ONE7Lex+WHw53MzupVaXd8t7HtMYjee+jM/KwjJlZCjnczcxSyOFuZpZCDnczsxTyB6pmdtrxTKG2+c7dzCyFHO5mZinkcDczSyGHu5lZCjnczcxSKG+zZSRNAR4ASoBHIuLufPVlZpZrhVh6AfK3/EJe7twllQAPAlcCw4GZkobnoy8zM/u4fA3LXARsj4g3IuIIsBKYmqe+zMysBUVE7t9Uuh6YEhH/K9n+OnBxRNzS7JgqoCrZHApszXkhudUP2FPsIoqkM187dO7r97V/sv2PiChrbUfRvqEaEYuARcXqv6MkVUdEZbHrKIbOfO3Qua/f1376Xnu+hmV2AgObbZcnbWZmVgD5Cvf1wGBJgyR1A2YAT+epLzMzayEvwzIRcVTSLcD/o2kq5JKI2JyPvgrotBlCyoPOfO3Qua/f136ayssHqmZmVlz+hqqZWQo53M3MUsjh3gZJUyRtlbRd0txi11NIkpZI2i1pU7FrKTRJAyWtlbRF0mZJ3yt2TYUkqYekdZI2Jtd/V7FrKjRJJZL+U9Izxa4lEw73U/AyCiwFphS7iCI5Cnw/IoYD44E5ney//QfAlyJiNDAGmCJpfHFLKrjvAXXFLiJTDvdT69TLKETEC8Cfi11HMUTErojYkLw+SNMv+YDiVlU40eRQslma/Ok0sy8klQN/DTxS7Foy5XA/tQHAjmbb9XSiX3BrIqkCuBB4pcilFFQyLFEL7Aaei4jOdP33Az8CjhW5jow53M1OQVIv4F+Av42I/yp2PYUUER9GxBiavmF+kaSRRS6pICRdBeyOiJpi15INh/upeRmFTkxSKU3B/lhE/LLY9RRLROwH1tJ5Pn+ZCFwt6U2ahmK/JOkXxS2p4xzup+ZlFDopSQIWA3URcW+x6yk0SWWS+iSvzwAuB14ralEFEhG3R0R5RFTQ9Du/JiJuKHJZHeZwP4WIOAocX0ahDngiBcsotJukFcBLwFBJ9ZJuKnZNBTQR+DpNd221yZ+vFLuoAuoPrJX0Kk03Oc9FxGk5JbCz8vIDZmYp5Dt3M7MUcribmaWQw93MLIUc7mZmKeRwNzNLIYe7mVkKOdzNzFLo/wO0s5A2t92qQwAAAABJRU5ErkJggg==\n\"/>",
     " runs_bar(uniform, 5) ": "<img src=\"data:image/png;base64,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\n\"/>"
    }
   },
   "source": [
    "\n",
    "| Sequence | Permutation test |\n",
    "|:--------:|:--------:|\n",
    "| `rolls`  | {{ p(runs_test(rolls, 5)) }} |\n",
    "| `repetition`  | {{ p(runs_test(repetition, 5)) }} |\n",
    "| `sorted_rolls`  | {{ p(runs_test(sorted_rolls, 5)) }} |\n",
    "| `duplicated`  | {{ p(runs_test(duplicated, 5)) }} |\n",
    "| `normal` | {{ p(runs_test(normal, 5)) }} |\n",
    "| `uniform` | {{ p(runs_test(uniform, 5)) }} |\n",
    "\n",
    "**`rolls` histogram**\n",
    "\n",
    "{{ runs_bar(rolls, 5) }}\n",
    "\n",
    "**`uniform` histogram**\n",
    "\n",
    "{{ runs_bar(uniform, 5) }}\n"
   ]
  },
  {
   "cell_type": "markdown",
   "id": "willing-language",
   "metadata": {},
   "source": [
    "#### Maximum-of-t test"
   ]
  },
  {
   "cell_type": "code",
   "execution_count": 16,
   "id": "average-london",
   "metadata": {},
   "outputs": [
    {
     "data": {
      "text/plain": [
       "0.0"
      ]
     },
     "execution_count": 16,
     "metadata": {},
     "output_type": "execute_result"
    }
   ],
   "source": [
    "def max_of_t_test(sample, n):\n",
    "    s = [ max(seq) for seq in by_n(sample, n)]\n",
    "    c = count(s, 6)\n",
    "    f = [ pow(y, n) for y in range(1,7)]\n",
    "    return chi2test(c, f_exp=f)\n",
    "\n",
    "max_of_t_test(rolls, 5)"
   ]
  },
  {
   "cell_type": "markdown",
   "id": "serial-comparative",
   "metadata": {},
   "source": [
    "#### Collision test"
   ]
  },
  {
   "cell_type": "markdown",
   "id": "awful-remove",
   "metadata": {},
   "source": [
    "#### Serial correlation test"
   ]
  },
  {
   "cell_type": "code",
   "execution_count": 17,
   "id": "representative-wednesday",
   "metadata": {},
   "outputs": [],
   "source": [
    "def corr_rng(n):\n",
    "    mu = -1 / (n - 1)\n",
    "    sig = (1 / (n - 1)) * math.sqrt((n * (n - 3)) / (n + 1))\n",
    "    return (mu - (2 * sig), mu + (2 * sig))\n",
    "\n",
    "def correlation_coef(sample, n):\n",
    "    corr = scipy.stats.pearsonr(\n",
    "        sample,\n",
    "        [sample[(i+n) % len(sample)] for i in range(0, len(sample))]\n",
    "    )[0]\n",
    "    rng = corr_rng(len(sample))\n",
    "    return (corr, rng, rng[0] < corr and corr < rng[1])\n",
    "\n",
    "correlation_coef(rolls, 1)\n",
    "\n",
    "def cor(sample, n):\n",
    "    cr = correlation_coef(sample, n)\n",
    "    return f'{cr[2] and \"Valid\" or \"Invalid\"} ({f(cr[0])})'"
   ]
  },
  {
   "cell_type": "markdown",
   "id": "grand-exposure",
   "metadata": {
    "variables": {
     " cor(duplicated, 1) ": "Invalid (0.49)",
     " cor(duplicated, 2) ": "Valid (-0.02)",
     " cor(duplicated, 4) ": "Invalid (-0.07)",
     " cor(duplicated, 6) ": "Valid (-0.02)",
     " cor(normal, 1) ": "Valid (-0.0)",
     " cor(normal, 2) ": "Valid (-0.01)",
     " cor(normal, 4) ": "Invalid (-0.07)",
     " cor(normal, 6) ": "Valid (0.02)",
     " cor(repetition, 1) ": "Invalid (0.14)",
     " cor(repetition, 2) ": "Invalid (-0.37)",
     " cor(repetition, 4) ": "Invalid (-0.37)",
     " cor(repetition, 6) ": "Invalid (1.0)",
     " cor(rolls, 1) ": "Valid (-0.02)",
     " cor(rolls, 2) ": "Invalid (-0.07)",
     " cor(rolls, 4) ": "Valid (0.0)",
     " cor(rolls, 6) ": "Valid (-0.02)",
     " cor(sorted_rolls, 1) ": "Invalid (0.99)",
     " cor(sorted_rolls, 2) ": "Invalid (0.99)",
     " cor(sorted_rolls, 4) ": "Invalid (0.98)",
     " cor(sorted_rolls, 6) ": "Invalid (0.97)",
     " cor(uniform, 1) ": "Valid (0.01)",
     " cor(uniform, 2) ": "Valid (-0.03)",
     " cor(uniform, 4) ": "Valid (-0.05)",
     " cor(uniform, 6) ": "Invalid (0.07)"
    }
   },
   "source": [
    "\n",
    "| Sequence | 1 | 2 | 4 | 6 |\n",
    "|:--------:|:-:|:-:|:-:|:-:|\n",
    "| `rolls`  | {{ cor(rolls, 1) }} | {{ cor(rolls, 2) }} | {{ cor(rolls, 4) }} | {{ cor(rolls, 6) }} |\n",
    "| `repetition`  | {{ cor(repetition, 1) }} | {{ cor(repetition, 2) }} | {{ cor(repetition, 4) }} | {{ cor(repetition, 6) }} |\n",
    "| `sorted_rolls`  | {{ cor(sorted_rolls, 1) }} | {{ cor(sorted_rolls, 2) }} | {{ cor(sorted_rolls, 4) }} | {{ cor(sorted_rolls, 6) }} |\n",
    "| `duplicated`  | {{ cor(duplicated, 1) }} | {{ cor(duplicated, 2) }} | {{ cor(duplicated, 4) }} | {{ cor(duplicated, 6) }} |\n",
    "| `normal`  | {{ cor(normal, 1) }} | {{ cor(normal, 2) }} | {{ cor(normal, 4) }} | {{ cor(normal, 6) }} |\n",
    "| `uniform`  | {{ cor(uniform, 1) }} | {{ cor(uniform, 2) }} | {{ cor(uniform, 4) }} | {{ cor(uniform, 6) }} |\n"
   ]
  },
  {
   "cell_type": "code",
   "execution_count": null,
   "id": "sapphire-samoa",
   "metadata": {},
   "outputs": [],
   "source": []
  }
 ],
 "metadata": {
  "kernelspec": {
   "display_name": "Python 3",
   "language": "python",
   "name": "python3"
  },
  "language_info": {
   "codemirror_mode": {
    "name": "ipython",
    "version": 3
   },
   "file_extension": ".py",
   "mimetype": "text/x-python",
   "name": "python",
   "nbconvert_exporter": "python",
   "pygments_lexer": "ipython3",
   "version": "3.8.5"
  }
 },
 "nbformat": 4,
 "nbformat_minor": 5
}
